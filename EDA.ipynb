{
 "cells": [
  {
   "cell_type": "code",
   "execution_count": 1,
   "id": "8e43d311",
   "metadata": {
    "ExecuteTime": {
     "end_time": "2022-05-13T07:19:24.106510Z",
     "start_time": "2022-05-13T07:19:21.682397Z"
    }
   },
   "outputs": [],
   "source": [
    "import numpy as np\n",
    "import pandas as pd\n",
    "import cv2"
   ]
  },
  {
   "cell_type": "code",
   "execution_count": 2,
   "id": "36117340",
   "metadata": {
    "ExecuteTime": {
     "end_time": "2022-05-13T07:19:24.190179Z",
     "start_time": "2022-05-13T07:19:24.133957Z"
    },
    "scrolled": true
   },
   "outputs": [
    {
     "data": {
      "text/html": [
       "<div>\n",
       "<style scoped>\n",
       "    .dataframe tbody tr th:only-of-type {\n",
       "        vertical-align: middle;\n",
       "    }\n",
       "\n",
       "    .dataframe tbody tr th {\n",
       "        vertical-align: top;\n",
       "    }\n",
       "\n",
       "    .dataframe thead th {\n",
       "        text-align: right;\n",
       "    }\n",
       "</style>\n",
       "<table border=\"1\" class=\"dataframe\">\n",
       "  <thead>\n",
       "    <tr style=\"text-align: right;\">\n",
       "      <th></th>\n",
       "      <th>img_name</th>\n",
       "      <th>leaf_weight</th>\n",
       "    </tr>\n",
       "  </thead>\n",
       "  <tbody>\n",
       "    <tr>\n",
       "      <th>0</th>\n",
       "      <td>CASE01_01.png</td>\n",
       "      <td>49.193</td>\n",
       "    </tr>\n",
       "    <tr>\n",
       "      <th>1</th>\n",
       "      <td>CASE01_02.png</td>\n",
       "      <td>59.764</td>\n",
       "    </tr>\n",
       "    <tr>\n",
       "      <th>2</th>\n",
       "      <td>CASE01_03.png</td>\n",
       "      <td>72.209</td>\n",
       "    </tr>\n",
       "    <tr>\n",
       "      <th>3</th>\n",
       "      <td>CASE01_04.png</td>\n",
       "      <td>85.737</td>\n",
       "    </tr>\n",
       "    <tr>\n",
       "      <th>4</th>\n",
       "      <td>CASE01_05.png</td>\n",
       "      <td>102.537</td>\n",
       "    </tr>\n",
       "    <tr>\n",
       "      <th>5</th>\n",
       "      <td>CASE01_06.png</td>\n",
       "      <td>123.359</td>\n",
       "    </tr>\n",
       "    <tr>\n",
       "      <th>6</th>\n",
       "      <td>CASE01_07.png</td>\n",
       "      <td>156.149</td>\n",
       "    </tr>\n",
       "    <tr>\n",
       "      <th>7</th>\n",
       "      <td>CASE01_08.png</td>\n",
       "      <td>174.931</td>\n",
       "    </tr>\n",
       "    <tr>\n",
       "      <th>8</th>\n",
       "      <td>CASE01_09.png</td>\n",
       "      <td>187.523</td>\n",
       "    </tr>\n",
       "  </tbody>\n",
       "</table>\n",
       "</div>"
      ],
      "text/plain": [
       "        img_name  leaf_weight\n",
       "0  CASE01_01.png       49.193\n",
       "1  CASE01_02.png       59.764\n",
       "2  CASE01_03.png       72.209\n",
       "3  CASE01_04.png       85.737\n",
       "4  CASE01_05.png      102.537\n",
       "5  CASE01_06.png      123.359\n",
       "6  CASE01_07.png      156.149\n",
       "7  CASE01_08.png      174.931\n",
       "8  CASE01_09.png      187.523"
      ]
     },
     "execution_count": 2,
     "metadata": {},
     "output_type": "execute_result"
    }
   ],
   "source": [
    "Case1_label = pd.read_csv('./open/train/CASE01/label.csv')\n",
    "Case1_label"
   ]
  },
  {
   "cell_type": "code",
   "execution_count": 3,
   "id": "9cfb438f",
   "metadata": {
    "ExecuteTime": {
     "end_time": "2022-05-13T07:19:29.224393Z",
     "start_time": "2022-05-13T07:19:24.241997Z"
    }
   },
   "outputs": [],
   "source": [
    "Case1 = []\n",
    "for i in range(len(Case1_label['img_name'])):\n",
    "    a = cv2.imread('./open/train/CASE01/image/CASE01_0{}.png'.format(i+1))\n",
    "    Case1.append(a)\n",
    "\n",
    "# for i in range(len(Case1_label['img_name'])):\n",
    "#     cv2.imshow(\"Case1_0{}\".format(i+1),cv2.resize(Case1[i],(960,540)))\n",
    "\n",
    "# cv2.waitKey(0)\n",
    "# cv2.destroyAllWindows()"
   ]
  },
  {
   "cell_type": "code",
   "execution_count": 4,
   "id": "ea0f9eac",
   "metadata": {
    "ExecuteTime": {
     "end_time": "2022-05-13T07:19:29.280120Z",
     "start_time": "2022-05-13T07:19:29.271979Z"
    },
    "scrolled": true
   },
   "outputs": [
    {
     "data": {
      "text/plain": [
       "array([[211, 180, 159],\n",
       "       [210, 179, 158],\n",
       "       [213, 181, 162],\n",
       "       ...,\n",
       "       [227, 192, 188],\n",
       "       [222, 187, 184],\n",
       "       [223, 188, 185]], dtype=uint8)"
      ]
     },
     "execution_count": 4,
     "metadata": {},
     "output_type": "execute_result"
    }
   ],
   "source": [
    "a[0]"
   ]
  },
  {
   "cell_type": "code",
   "execution_count": 5,
   "id": "9ba313f6",
   "metadata": {
    "ExecuteTime": {
     "end_time": "2022-05-13T07:19:29.333462Z",
     "start_time": "2022-05-13T07:19:29.325443Z"
    },
    "scrolled": true
   },
   "outputs": [
    {
     "name": "stdout",
     "output_type": "stream",
     "text": [
      "(2464, 3280, 3)\n",
      "(2464, 3280, 3)\n"
     ]
    }
   ],
   "source": [
    "print(Case1[0].shape)\n",
    "print(Case1[1].shape)"
   ]
  },
  {
   "cell_type": "code",
   "execution_count": 6,
   "id": "c33070bd",
   "metadata": {
    "ExecuteTime": {
     "end_time": "2022-05-13T07:19:29.386277Z",
     "start_time": "2022-05-13T07:19:29.374803Z"
    },
    "scrolled": true
   },
   "outputs": [
    {
     "data": {
      "text/plain": [
       "array([[[229, 202, 206],\n",
       "        [229, 202, 206],\n",
       "        [226, 199, 202],\n",
       "        ...,\n",
       "        [239, 207, 218],\n",
       "        [236, 203, 217],\n",
       "        [235, 202, 216]],\n",
       "\n",
       "       [[227, 200, 204],\n",
       "        [228, 201, 205],\n",
       "        [226, 199, 202],\n",
       "        ...,\n",
       "        [236, 204, 215],\n",
       "        [236, 203, 217],\n",
       "        [236, 203, 217]],\n",
       "\n",
       "       [[228, 203, 207],\n",
       "        [226, 201, 205],\n",
       "        [228, 201, 205],\n",
       "        ...,\n",
       "        [235, 205, 216],\n",
       "        [235, 205, 216],\n",
       "        [235, 205, 216]],\n",
       "\n",
       "       ...,\n",
       "\n",
       "       [[194, 148, 161],\n",
       "        [198, 152, 165],\n",
       "        [191, 144, 160],\n",
       "        ...,\n",
       "        [239, 215, 217],\n",
       "        [239, 215, 215],\n",
       "        [240, 216, 216]],\n",
       "\n",
       "       [[200, 152, 164],\n",
       "        [201, 153, 165],\n",
       "        [192, 144, 156],\n",
       "        ...,\n",
       "        [243, 219, 221],\n",
       "        [241, 217, 217],\n",
       "        [239, 215, 215]],\n",
       "\n",
       "       [[198, 151, 160],\n",
       "        [197, 150, 159],\n",
       "        [192, 145, 154],\n",
       "        ...,\n",
       "        [242, 218, 220],\n",
       "        [242, 218, 218],\n",
       "        [238, 214, 214]]], dtype=uint8)"
      ]
     },
     "execution_count": 6,
     "metadata": {},
     "output_type": "execute_result"
    }
   ],
   "source": [
    "Case1[0]"
   ]
  },
  {
   "cell_type": "code",
   "execution_count": 7,
   "id": "2a9e99ed",
   "metadata": {
    "ExecuteTime": {
     "end_time": "2022-05-13T07:19:29.508830Z",
     "start_time": "2022-05-13T07:19:29.422591Z"
    },
    "scrolled": true
   },
   "outputs": [
    {
     "data": {
      "text/html": [
       "<div>\n",
       "<style scoped>\n",
       "    .dataframe tbody tr th:only-of-type {\n",
       "        vertical-align: middle;\n",
       "    }\n",
       "\n",
       "    .dataframe tbody tr th {\n",
       "        vertical-align: top;\n",
       "    }\n",
       "\n",
       "    .dataframe thead th {\n",
       "        text-align: right;\n",
       "    }\n",
       "</style>\n",
       "<table border=\"1\" class=\"dataframe\">\n",
       "  <thead>\n",
       "    <tr style=\"text-align: right;\">\n",
       "      <th></th>\n",
       "      <th>시간</th>\n",
       "      <th>내부온도관측치</th>\n",
       "      <th>외부온도관측치</th>\n",
       "      <th>내부습도관측치</th>\n",
       "      <th>외부습도관측치</th>\n",
       "      <th>CO2관측치</th>\n",
       "      <th>EC관측치</th>\n",
       "      <th>최근분무량</th>\n",
       "      <th>화이트 LED동작강도</th>\n",
       "      <th>레드 LED동작강도</th>\n",
       "      <th>블루 LED동작강도</th>\n",
       "      <th>냉방온도</th>\n",
       "      <th>냉방부하</th>\n",
       "      <th>난방온도</th>\n",
       "      <th>난방부하</th>\n",
       "      <th>총추정광량</th>\n",
       "      <th>백색광추정광량</th>\n",
       "      <th>적색광추정광량</th>\n",
       "      <th>청색광추정광량</th>\n",
       "    </tr>\n",
       "  </thead>\n",
       "  <tbody>\n",
       "    <tr>\n",
       "      <th>0</th>\n",
       "      <td>2021-05-07 02:46</td>\n",
       "      <td>18.6</td>\n",
       "      <td>41.500000</td>\n",
       "      <td>77.599998</td>\n",
       "      <td>NaN</td>\n",
       "      <td>582.0</td>\n",
       "      <td>18.600000</td>\n",
       "      <td>0.0</td>\n",
       "      <td>201.0</td>\n",
       "      <td>201.0</td>\n",
       "      <td>201.0</td>\n",
       "      <td>14.0</td>\n",
       "      <td>0.0</td>\n",
       "      <td>15.0</td>\n",
       "      <td>13.000002</td>\n",
       "      <td>0.0</td>\n",
       "      <td>0.0</td>\n",
       "      <td>0.0</td>\n",
       "      <td>NaN</td>\n",
       "    </tr>\n",
       "    <tr>\n",
       "      <th>1</th>\n",
       "      <td>2021-05-07 02:47</td>\n",
       "      <td>18.6</td>\n",
       "      <td>41.500000</td>\n",
       "      <td>77.699997</td>\n",
       "      <td>0.0</td>\n",
       "      <td>585.0</td>\n",
       "      <td>18.799999</td>\n",
       "      <td>0.0</td>\n",
       "      <td>201.0</td>\n",
       "      <td>201.0</td>\n",
       "      <td>0.0</td>\n",
       "      <td>14.0</td>\n",
       "      <td>0.0</td>\n",
       "      <td>15.0</td>\n",
       "      <td>13.000002</td>\n",
       "      <td>0.0</td>\n",
       "      <td>0.0</td>\n",
       "      <td>0.0</td>\n",
       "      <td>NaN</td>\n",
       "    </tr>\n",
       "    <tr>\n",
       "      <th>2</th>\n",
       "      <td>2021-05-07 02:48</td>\n",
       "      <td>18.6</td>\n",
       "      <td>41.299999</td>\n",
       "      <td>77.800003</td>\n",
       "      <td>0.0</td>\n",
       "      <td>587.0</td>\n",
       "      <td>18.700001</td>\n",
       "      <td>0.0</td>\n",
       "      <td>201.0</td>\n",
       "      <td>201.0</td>\n",
       "      <td>NaN</td>\n",
       "      <td>14.0</td>\n",
       "      <td>0.0</td>\n",
       "      <td>15.0</td>\n",
       "      <td>13.000002</td>\n",
       "      <td>0.0</td>\n",
       "      <td>0.0</td>\n",
       "      <td>0.0</td>\n",
       "      <td>NaN</td>\n",
       "    </tr>\n",
       "    <tr>\n",
       "      <th>3</th>\n",
       "      <td>2021-05-07 02:49</td>\n",
       "      <td>18.5</td>\n",
       "      <td>41.099998</td>\n",
       "      <td>77.800003</td>\n",
       "      <td>0.0</td>\n",
       "      <td>584.0</td>\n",
       "      <td>18.799999</td>\n",
       "      <td>0.0</td>\n",
       "      <td>201.0</td>\n",
       "      <td>201.0</td>\n",
       "      <td>0.0</td>\n",
       "      <td>14.0</td>\n",
       "      <td>0.0</td>\n",
       "      <td>15.0</td>\n",
       "      <td>12.500000</td>\n",
       "      <td>0.0</td>\n",
       "      <td>0.0</td>\n",
       "      <td>0.0</td>\n",
       "      <td>NaN</td>\n",
       "    </tr>\n",
       "    <tr>\n",
       "      <th>4</th>\n",
       "      <td>2021-05-07 02:50</td>\n",
       "      <td>18.6</td>\n",
       "      <td>41.200001</td>\n",
       "      <td>77.800003</td>\n",
       "      <td>0.0</td>\n",
       "      <td>583.0</td>\n",
       "      <td>19.100000</td>\n",
       "      <td>0.0</td>\n",
       "      <td>201.0</td>\n",
       "      <td>201.0</td>\n",
       "      <td>0.0</td>\n",
       "      <td>14.0</td>\n",
       "      <td>0.0</td>\n",
       "      <td>15.0</td>\n",
       "      <td>13.000002</td>\n",
       "      <td>0.0</td>\n",
       "      <td>0.0</td>\n",
       "      <td>0.0</td>\n",
       "      <td>NaN</td>\n",
       "    </tr>\n",
       "    <tr>\n",
       "      <th>...</th>\n",
       "      <td>...</td>\n",
       "      <td>...</td>\n",
       "      <td>...</td>\n",
       "      <td>...</td>\n",
       "      <td>...</td>\n",
       "      <td>...</td>\n",
       "      <td>...</td>\n",
       "      <td>...</td>\n",
       "      <td>...</td>\n",
       "      <td>...</td>\n",
       "      <td>...</td>\n",
       "      <td>...</td>\n",
       "      <td>...</td>\n",
       "      <td>...</td>\n",
       "      <td>...</td>\n",
       "      <td>...</td>\n",
       "      <td>...</td>\n",
       "      <td>...</td>\n",
       "      <td>...</td>\n",
       "    </tr>\n",
       "    <tr>\n",
       "      <th>1435</th>\n",
       "      <td>2021-05-08 02:41</td>\n",
       "      <td>17.4</td>\n",
       "      <td>48.000000</td>\n",
       "      <td>69.500000</td>\n",
       "      <td>0.0</td>\n",
       "      <td>568.0</td>\n",
       "      <td>15.700000</td>\n",
       "      <td>0.0</td>\n",
       "      <td>201.0</td>\n",
       "      <td>201.0</td>\n",
       "      <td>0.0</td>\n",
       "      <td>14.0</td>\n",
       "      <td>0.0</td>\n",
       "      <td>15.0</td>\n",
       "      <td>6.999998</td>\n",
       "      <td>0.0</td>\n",
       "      <td>0.0</td>\n",
       "      <td>0.0</td>\n",
       "      <td>NaN</td>\n",
       "    </tr>\n",
       "    <tr>\n",
       "      <th>1436</th>\n",
       "      <td>2021-05-08 02:42</td>\n",
       "      <td>17.4</td>\n",
       "      <td>48.000000</td>\n",
       "      <td>70.099998</td>\n",
       "      <td>0.0</td>\n",
       "      <td>572.0</td>\n",
       "      <td>15.600000</td>\n",
       "      <td>0.0</td>\n",
       "      <td>201.0</td>\n",
       "      <td>201.0</td>\n",
       "      <td>NaN</td>\n",
       "      <td>14.0</td>\n",
       "      <td>0.0</td>\n",
       "      <td>15.0</td>\n",
       "      <td>6.999998</td>\n",
       "      <td>0.0</td>\n",
       "      <td>0.0</td>\n",
       "      <td>0.0</td>\n",
       "      <td>NaN</td>\n",
       "    </tr>\n",
       "    <tr>\n",
       "      <th>1437</th>\n",
       "      <td>2021-05-08 02:43</td>\n",
       "      <td>17.4</td>\n",
       "      <td>48.000000</td>\n",
       "      <td>70.599998</td>\n",
       "      <td>0.0</td>\n",
       "      <td>574.0</td>\n",
       "      <td>15.600000</td>\n",
       "      <td>0.0</td>\n",
       "      <td>NaN</td>\n",
       "      <td>201.0</td>\n",
       "      <td>0.0</td>\n",
       "      <td>14.0</td>\n",
       "      <td>0.0</td>\n",
       "      <td>15.0</td>\n",
       "      <td>6.999998</td>\n",
       "      <td>0.0</td>\n",
       "      <td>0.0</td>\n",
       "      <td>0.0</td>\n",
       "      <td>NaN</td>\n",
       "    </tr>\n",
       "    <tr>\n",
       "      <th>1438</th>\n",
       "      <td>2021-05-08 02:44</td>\n",
       "      <td>17.4</td>\n",
       "      <td>48.000000</td>\n",
       "      <td>71.599998</td>\n",
       "      <td>0.0</td>\n",
       "      <td>574.0</td>\n",
       "      <td>15.600000</td>\n",
       "      <td>0.0</td>\n",
       "      <td>201.0</td>\n",
       "      <td>201.0</td>\n",
       "      <td>0.0</td>\n",
       "      <td>14.0</td>\n",
       "      <td>0.0</td>\n",
       "      <td>15.0</td>\n",
       "      <td>6.999998</td>\n",
       "      <td>0.0</td>\n",
       "      <td>0.0</td>\n",
       "      <td>0.0</td>\n",
       "      <td>NaN</td>\n",
       "    </tr>\n",
       "    <tr>\n",
       "      <th>1439</th>\n",
       "      <td>2021-05-08 02:45</td>\n",
       "      <td>17.5</td>\n",
       "      <td>47.900002</td>\n",
       "      <td>72.500000</td>\n",
       "      <td>NaN</td>\n",
       "      <td>578.0</td>\n",
       "      <td>15.600000</td>\n",
       "      <td>0.0</td>\n",
       "      <td>201.0</td>\n",
       "      <td>201.0</td>\n",
       "      <td>NaN</td>\n",
       "      <td>14.0</td>\n",
       "      <td>0.0</td>\n",
       "      <td>15.0</td>\n",
       "      <td>7.500000</td>\n",
       "      <td>0.0</td>\n",
       "      <td>0.0</td>\n",
       "      <td>0.0</td>\n",
       "      <td>NaN</td>\n",
       "    </tr>\n",
       "  </tbody>\n",
       "</table>\n",
       "<p>1440 rows × 19 columns</p>\n",
       "</div>"
      ],
      "text/plain": [
       "                    시간  내부온도관측치    외부온도관측치    내부습도관측치  외부습도관측치  CO2관측치  \\\n",
       "0     2021-05-07 02:46     18.6  41.500000  77.599998      NaN   582.0   \n",
       "1     2021-05-07 02:47     18.6  41.500000  77.699997      0.0   585.0   \n",
       "2     2021-05-07 02:48     18.6  41.299999  77.800003      0.0   587.0   \n",
       "3     2021-05-07 02:49     18.5  41.099998  77.800003      0.0   584.0   \n",
       "4     2021-05-07 02:50     18.6  41.200001  77.800003      0.0   583.0   \n",
       "...                ...      ...        ...        ...      ...     ...   \n",
       "1435  2021-05-08 02:41     17.4  48.000000  69.500000      0.0   568.0   \n",
       "1436  2021-05-08 02:42     17.4  48.000000  70.099998      0.0   572.0   \n",
       "1437  2021-05-08 02:43     17.4  48.000000  70.599998      0.0   574.0   \n",
       "1438  2021-05-08 02:44     17.4  48.000000  71.599998      0.0   574.0   \n",
       "1439  2021-05-08 02:45     17.5  47.900002  72.500000      NaN   578.0   \n",
       "\n",
       "          EC관측치  최근분무량  화이트 LED동작강도  레드 LED동작강도  블루 LED동작강도  냉방온도  냉방부하  난방온도  \\\n",
       "0     18.600000    0.0        201.0       201.0       201.0  14.0   0.0  15.0   \n",
       "1     18.799999    0.0        201.0       201.0         0.0  14.0   0.0  15.0   \n",
       "2     18.700001    0.0        201.0       201.0         NaN  14.0   0.0  15.0   \n",
       "3     18.799999    0.0        201.0       201.0         0.0  14.0   0.0  15.0   \n",
       "4     19.100000    0.0        201.0       201.0         0.0  14.0   0.0  15.0   \n",
       "...         ...    ...          ...         ...         ...   ...   ...   ...   \n",
       "1435  15.700000    0.0        201.0       201.0         0.0  14.0   0.0  15.0   \n",
       "1436  15.600000    0.0        201.0       201.0         NaN  14.0   0.0  15.0   \n",
       "1437  15.600000    0.0          NaN       201.0         0.0  14.0   0.0  15.0   \n",
       "1438  15.600000    0.0        201.0       201.0         0.0  14.0   0.0  15.0   \n",
       "1439  15.600000    0.0        201.0       201.0         NaN  14.0   0.0  15.0   \n",
       "\n",
       "           난방부하  총추정광량  백색광추정광량  적색광추정광량  청색광추정광량  \n",
       "0     13.000002    0.0      0.0      0.0      NaN  \n",
       "1     13.000002    0.0      0.0      0.0      NaN  \n",
       "2     13.000002    0.0      0.0      0.0      NaN  \n",
       "3     12.500000    0.0      0.0      0.0      NaN  \n",
       "4     13.000002    0.0      0.0      0.0      NaN  \n",
       "...         ...    ...      ...      ...      ...  \n",
       "1435   6.999998    0.0      0.0      0.0      NaN  \n",
       "1436   6.999998    0.0      0.0      0.0      NaN  \n",
       "1437   6.999998    0.0      0.0      0.0      NaN  \n",
       "1438   6.999998    0.0      0.0      0.0      NaN  \n",
       "1439   7.500000    0.0      0.0      0.0      NaN  \n",
       "\n",
       "[1440 rows x 19 columns]"
      ]
     },
     "execution_count": 7,
     "metadata": {},
     "output_type": "execute_result"
    }
   ],
   "source": [
    "meta1_01 = pd.read_csv('./open/train/CASE01/meta/CASE01_01.csv')\n",
    "meta1_01"
   ]
  },
  {
   "cell_type": "code",
   "execution_count": 8,
   "id": "d82633f7",
   "metadata": {
    "ExecuteTime": {
     "end_time": "2022-05-13T07:19:29.643152Z",
     "start_time": "2022-05-13T07:19:29.609748Z"
    },
    "scrolled": true
   },
   "outputs": [
    {
     "name": "stdout",
     "output_type": "stream",
     "text": [
      "<class 'pandas.core.frame.DataFrame'>\n",
      "RangeIndex: 1440 entries, 0 to 1439\n",
      "Data columns (total 19 columns):\n",
      " #   Column       Non-Null Count  Dtype  \n",
      "---  ------       --------------  -----  \n",
      " 0   시간           1440 non-null   object \n",
      " 1   내부온도관측치      1440 non-null   float64\n",
      " 2   외부온도관측치      1440 non-null   float64\n",
      " 3   내부습도관측치      1440 non-null   float64\n",
      " 4   외부습도관측치      1149 non-null   float64\n",
      " 5   CO2관측치       1440 non-null   float64\n",
      " 6   EC관측치        1440 non-null   float64\n",
      " 7   최근분무량        1440 non-null   float64\n",
      " 8   화이트 LED동작강도  1387 non-null   float64\n",
      " 9   레드 LED동작강도   1389 non-null   float64\n",
      " 10  블루 LED동작강도   860 non-null    float64\n",
      " 11  냉방온도         1416 non-null   float64\n",
      " 12  냉방부하         1416 non-null   float64\n",
      " 13  난방온도         1416 non-null   float64\n",
      " 14  난방부하         1416 non-null   float64\n",
      " 15  총추정광량        1416 non-null   float64\n",
      " 16  백색광추정광량      1416 non-null   float64\n",
      " 17  적색광추정광량      1416 non-null   float64\n",
      " 18  청색광추정광량      0 non-null      float64\n",
      "dtypes: float64(18), object(1)\n",
      "memory usage: 213.9+ KB\n"
     ]
    }
   ],
   "source": [
    "meta1_01.info()"
   ]
  },
  {
   "cell_type": "markdown",
   "id": "cfd02534",
   "metadata": {},
   "source": [
    "종류 | 결측치 수 \n",
    "---|---\n",
    "외부습도관측치 | 291\n",
    "화이트 LED동작강도 | 53\n",
    "레드 LED동작강도 | 51\n",
    "블루 LED동작강도 | 580\n",
    "냉방온도 | 24\n",
    "냉방부하 | 24\n",
    "난방온도 | 24\n",
    "난방부하 | 24\n",
    "총추정광량 | 24\n",
    "백색광추정광량 | 24\n",
    "적색광추정광량 | 24\n",
    "청색광추정광량 | 1440"
   ]
  },
  {
   "cell_type": "markdown",
   "id": "a03a7c5d",
   "metadata": {},
   "source": [
    "- 청색광추정광량 제외해도 됨"
   ]
  },
  {
   "cell_type": "code",
   "execution_count": 9,
   "id": "96c360d6",
   "metadata": {
    "ExecuteTime": {
     "end_time": "2022-05-13T07:19:29.770083Z",
     "start_time": "2022-05-13T07:19:29.756662Z"
    }
   },
   "outputs": [],
   "source": [
    "meta1_01.drop(columns=['청색광추정광량'],inplace=True)"
   ]
  },
  {
   "cell_type": "code",
   "execution_count": 10,
   "id": "f467af20",
   "metadata": {
    "ExecuteTime": {
     "end_time": "2022-05-13T07:19:29.927923Z",
     "start_time": "2022-05-13T07:19:29.858169Z"
    },
    "scrolled": true
   },
   "outputs": [
    {
     "data": {
      "text/html": [
       "<div>\n",
       "<style scoped>\n",
       "    .dataframe tbody tr th:only-of-type {\n",
       "        vertical-align: middle;\n",
       "    }\n",
       "\n",
       "    .dataframe tbody tr th {\n",
       "        vertical-align: top;\n",
       "    }\n",
       "\n",
       "    .dataframe thead th {\n",
       "        text-align: right;\n",
       "    }\n",
       "</style>\n",
       "<table border=\"1\" class=\"dataframe\">\n",
       "  <thead>\n",
       "    <tr style=\"text-align: right;\">\n",
       "      <th></th>\n",
       "      <th>시간</th>\n",
       "      <th>내부온도관측치</th>\n",
       "      <th>외부온도관측치</th>\n",
       "      <th>내부습도관측치</th>\n",
       "      <th>외부습도관측치</th>\n",
       "      <th>CO2관측치</th>\n",
       "      <th>EC관측치</th>\n",
       "      <th>최근분무량</th>\n",
       "      <th>화이트 LED동작강도</th>\n",
       "      <th>레드 LED동작강도</th>\n",
       "      <th>블루 LED동작강도</th>\n",
       "      <th>냉방온도</th>\n",
       "      <th>냉방부하</th>\n",
       "      <th>난방온도</th>\n",
       "      <th>난방부하</th>\n",
       "      <th>총추정광량</th>\n",
       "      <th>백색광추정광량</th>\n",
       "      <th>적색광추정광량</th>\n",
       "    </tr>\n",
       "  </thead>\n",
       "  <tbody>\n",
       "    <tr>\n",
       "      <th>0</th>\n",
       "      <td>2021-05-07 02:46</td>\n",
       "      <td>18.6</td>\n",
       "      <td>41.500000</td>\n",
       "      <td>77.599998</td>\n",
       "      <td>NaN</td>\n",
       "      <td>582.0</td>\n",
       "      <td>18.600000</td>\n",
       "      <td>0.0</td>\n",
       "      <td>201.0</td>\n",
       "      <td>201.0</td>\n",
       "      <td>201.0</td>\n",
       "      <td>14.0</td>\n",
       "      <td>0.0</td>\n",
       "      <td>15.0</td>\n",
       "      <td>13.000002</td>\n",
       "      <td>0.0</td>\n",
       "      <td>0.0</td>\n",
       "      <td>0.0</td>\n",
       "    </tr>\n",
       "    <tr>\n",
       "      <th>1</th>\n",
       "      <td>2021-05-07 02:47</td>\n",
       "      <td>18.6</td>\n",
       "      <td>41.500000</td>\n",
       "      <td>77.699997</td>\n",
       "      <td>0.0</td>\n",
       "      <td>585.0</td>\n",
       "      <td>18.799999</td>\n",
       "      <td>0.0</td>\n",
       "      <td>201.0</td>\n",
       "      <td>201.0</td>\n",
       "      <td>0.0</td>\n",
       "      <td>14.0</td>\n",
       "      <td>0.0</td>\n",
       "      <td>15.0</td>\n",
       "      <td>13.000002</td>\n",
       "      <td>0.0</td>\n",
       "      <td>0.0</td>\n",
       "      <td>0.0</td>\n",
       "    </tr>\n",
       "    <tr>\n",
       "      <th>2</th>\n",
       "      <td>2021-05-07 02:48</td>\n",
       "      <td>18.6</td>\n",
       "      <td>41.299999</td>\n",
       "      <td>77.800003</td>\n",
       "      <td>0.0</td>\n",
       "      <td>587.0</td>\n",
       "      <td>18.700001</td>\n",
       "      <td>0.0</td>\n",
       "      <td>201.0</td>\n",
       "      <td>201.0</td>\n",
       "      <td>NaN</td>\n",
       "      <td>14.0</td>\n",
       "      <td>0.0</td>\n",
       "      <td>15.0</td>\n",
       "      <td>13.000002</td>\n",
       "      <td>0.0</td>\n",
       "      <td>0.0</td>\n",
       "      <td>0.0</td>\n",
       "    </tr>\n",
       "    <tr>\n",
       "      <th>3</th>\n",
       "      <td>2021-05-07 02:49</td>\n",
       "      <td>18.5</td>\n",
       "      <td>41.099998</td>\n",
       "      <td>77.800003</td>\n",
       "      <td>0.0</td>\n",
       "      <td>584.0</td>\n",
       "      <td>18.799999</td>\n",
       "      <td>0.0</td>\n",
       "      <td>201.0</td>\n",
       "      <td>201.0</td>\n",
       "      <td>0.0</td>\n",
       "      <td>14.0</td>\n",
       "      <td>0.0</td>\n",
       "      <td>15.0</td>\n",
       "      <td>12.500000</td>\n",
       "      <td>0.0</td>\n",
       "      <td>0.0</td>\n",
       "      <td>0.0</td>\n",
       "    </tr>\n",
       "    <tr>\n",
       "      <th>4</th>\n",
       "      <td>2021-05-07 02:50</td>\n",
       "      <td>18.6</td>\n",
       "      <td>41.200001</td>\n",
       "      <td>77.800003</td>\n",
       "      <td>0.0</td>\n",
       "      <td>583.0</td>\n",
       "      <td>19.100000</td>\n",
       "      <td>0.0</td>\n",
       "      <td>201.0</td>\n",
       "      <td>201.0</td>\n",
       "      <td>0.0</td>\n",
       "      <td>14.0</td>\n",
       "      <td>0.0</td>\n",
       "      <td>15.0</td>\n",
       "      <td>13.000002</td>\n",
       "      <td>0.0</td>\n",
       "      <td>0.0</td>\n",
       "      <td>0.0</td>\n",
       "    </tr>\n",
       "    <tr>\n",
       "      <th>...</th>\n",
       "      <td>...</td>\n",
       "      <td>...</td>\n",
       "      <td>...</td>\n",
       "      <td>...</td>\n",
       "      <td>...</td>\n",
       "      <td>...</td>\n",
       "      <td>...</td>\n",
       "      <td>...</td>\n",
       "      <td>...</td>\n",
       "      <td>...</td>\n",
       "      <td>...</td>\n",
       "      <td>...</td>\n",
       "      <td>...</td>\n",
       "      <td>...</td>\n",
       "      <td>...</td>\n",
       "      <td>...</td>\n",
       "      <td>...</td>\n",
       "      <td>...</td>\n",
       "    </tr>\n",
       "    <tr>\n",
       "      <th>1435</th>\n",
       "      <td>2021-05-08 02:41</td>\n",
       "      <td>17.4</td>\n",
       "      <td>48.000000</td>\n",
       "      <td>69.500000</td>\n",
       "      <td>0.0</td>\n",
       "      <td>568.0</td>\n",
       "      <td>15.700000</td>\n",
       "      <td>0.0</td>\n",
       "      <td>201.0</td>\n",
       "      <td>201.0</td>\n",
       "      <td>0.0</td>\n",
       "      <td>14.0</td>\n",
       "      <td>0.0</td>\n",
       "      <td>15.0</td>\n",
       "      <td>6.999998</td>\n",
       "      <td>0.0</td>\n",
       "      <td>0.0</td>\n",
       "      <td>0.0</td>\n",
       "    </tr>\n",
       "    <tr>\n",
       "      <th>1436</th>\n",
       "      <td>2021-05-08 02:42</td>\n",
       "      <td>17.4</td>\n",
       "      <td>48.000000</td>\n",
       "      <td>70.099998</td>\n",
       "      <td>0.0</td>\n",
       "      <td>572.0</td>\n",
       "      <td>15.600000</td>\n",
       "      <td>0.0</td>\n",
       "      <td>201.0</td>\n",
       "      <td>201.0</td>\n",
       "      <td>NaN</td>\n",
       "      <td>14.0</td>\n",
       "      <td>0.0</td>\n",
       "      <td>15.0</td>\n",
       "      <td>6.999998</td>\n",
       "      <td>0.0</td>\n",
       "      <td>0.0</td>\n",
       "      <td>0.0</td>\n",
       "    </tr>\n",
       "    <tr>\n",
       "      <th>1437</th>\n",
       "      <td>2021-05-08 02:43</td>\n",
       "      <td>17.4</td>\n",
       "      <td>48.000000</td>\n",
       "      <td>70.599998</td>\n",
       "      <td>0.0</td>\n",
       "      <td>574.0</td>\n",
       "      <td>15.600000</td>\n",
       "      <td>0.0</td>\n",
       "      <td>NaN</td>\n",
       "      <td>201.0</td>\n",
       "      <td>0.0</td>\n",
       "      <td>14.0</td>\n",
       "      <td>0.0</td>\n",
       "      <td>15.0</td>\n",
       "      <td>6.999998</td>\n",
       "      <td>0.0</td>\n",
       "      <td>0.0</td>\n",
       "      <td>0.0</td>\n",
       "    </tr>\n",
       "    <tr>\n",
       "      <th>1438</th>\n",
       "      <td>2021-05-08 02:44</td>\n",
       "      <td>17.4</td>\n",
       "      <td>48.000000</td>\n",
       "      <td>71.599998</td>\n",
       "      <td>0.0</td>\n",
       "      <td>574.0</td>\n",
       "      <td>15.600000</td>\n",
       "      <td>0.0</td>\n",
       "      <td>201.0</td>\n",
       "      <td>201.0</td>\n",
       "      <td>0.0</td>\n",
       "      <td>14.0</td>\n",
       "      <td>0.0</td>\n",
       "      <td>15.0</td>\n",
       "      <td>6.999998</td>\n",
       "      <td>0.0</td>\n",
       "      <td>0.0</td>\n",
       "      <td>0.0</td>\n",
       "    </tr>\n",
       "    <tr>\n",
       "      <th>1439</th>\n",
       "      <td>2021-05-08 02:45</td>\n",
       "      <td>17.5</td>\n",
       "      <td>47.900002</td>\n",
       "      <td>72.500000</td>\n",
       "      <td>NaN</td>\n",
       "      <td>578.0</td>\n",
       "      <td>15.600000</td>\n",
       "      <td>0.0</td>\n",
       "      <td>201.0</td>\n",
       "      <td>201.0</td>\n",
       "      <td>NaN</td>\n",
       "      <td>14.0</td>\n",
       "      <td>0.0</td>\n",
       "      <td>15.0</td>\n",
       "      <td>7.500000</td>\n",
       "      <td>0.0</td>\n",
       "      <td>0.0</td>\n",
       "      <td>0.0</td>\n",
       "    </tr>\n",
       "  </tbody>\n",
       "</table>\n",
       "<p>1440 rows × 18 columns</p>\n",
       "</div>"
      ],
      "text/plain": [
       "                    시간  내부온도관측치    외부온도관측치    내부습도관측치  외부습도관측치  CO2관측치  \\\n",
       "0     2021-05-07 02:46     18.6  41.500000  77.599998      NaN   582.0   \n",
       "1     2021-05-07 02:47     18.6  41.500000  77.699997      0.0   585.0   \n",
       "2     2021-05-07 02:48     18.6  41.299999  77.800003      0.0   587.0   \n",
       "3     2021-05-07 02:49     18.5  41.099998  77.800003      0.0   584.0   \n",
       "4     2021-05-07 02:50     18.6  41.200001  77.800003      0.0   583.0   \n",
       "...                ...      ...        ...        ...      ...     ...   \n",
       "1435  2021-05-08 02:41     17.4  48.000000  69.500000      0.0   568.0   \n",
       "1436  2021-05-08 02:42     17.4  48.000000  70.099998      0.0   572.0   \n",
       "1437  2021-05-08 02:43     17.4  48.000000  70.599998      0.0   574.0   \n",
       "1438  2021-05-08 02:44     17.4  48.000000  71.599998      0.0   574.0   \n",
       "1439  2021-05-08 02:45     17.5  47.900002  72.500000      NaN   578.0   \n",
       "\n",
       "          EC관측치  최근분무량  화이트 LED동작강도  레드 LED동작강도  블루 LED동작강도  냉방온도  냉방부하  난방온도  \\\n",
       "0     18.600000    0.0        201.0       201.0       201.0  14.0   0.0  15.0   \n",
       "1     18.799999    0.0        201.0       201.0         0.0  14.0   0.0  15.0   \n",
       "2     18.700001    0.0        201.0       201.0         NaN  14.0   0.0  15.0   \n",
       "3     18.799999    0.0        201.0       201.0         0.0  14.0   0.0  15.0   \n",
       "4     19.100000    0.0        201.0       201.0         0.0  14.0   0.0  15.0   \n",
       "...         ...    ...          ...         ...         ...   ...   ...   ...   \n",
       "1435  15.700000    0.0        201.0       201.0         0.0  14.0   0.0  15.0   \n",
       "1436  15.600000    0.0        201.0       201.0         NaN  14.0   0.0  15.0   \n",
       "1437  15.600000    0.0          NaN       201.0         0.0  14.0   0.0  15.0   \n",
       "1438  15.600000    0.0        201.0       201.0         0.0  14.0   0.0  15.0   \n",
       "1439  15.600000    0.0        201.0       201.0         NaN  14.0   0.0  15.0   \n",
       "\n",
       "           난방부하  총추정광량  백색광추정광량  적색광추정광량  \n",
       "0     13.000002    0.0      0.0      0.0  \n",
       "1     13.000002    0.0      0.0      0.0  \n",
       "2     13.000002    0.0      0.0      0.0  \n",
       "3     12.500000    0.0      0.0      0.0  \n",
       "4     13.000002    0.0      0.0      0.0  \n",
       "...         ...    ...      ...      ...  \n",
       "1435   6.999998    0.0      0.0      0.0  \n",
       "1436   6.999998    0.0      0.0      0.0  \n",
       "1437   6.999998    0.0      0.0      0.0  \n",
       "1438   6.999998    0.0      0.0      0.0  \n",
       "1439   7.500000    0.0      0.0      0.0  \n",
       "\n",
       "[1440 rows x 18 columns]"
      ]
     },
     "execution_count": 10,
     "metadata": {},
     "output_type": "execute_result"
    }
   ],
   "source": [
    "meta1_01"
   ]
  },
  {
   "cell_type": "code",
   "execution_count": null,
   "id": "a1cce8b3",
   "metadata": {},
   "outputs": [],
   "source": []
  },
  {
   "cell_type": "code",
   "execution_count": 11,
   "id": "47ced074",
   "metadata": {
    "ExecuteTime": {
     "end_time": "2022-05-13T07:19:30.088079Z",
     "start_time": "2022-05-13T07:19:30.057946Z"
    }
   },
   "outputs": [
    {
     "data": {
      "text/plain": [
       "array([ nan,   0., 201.])"
      ]
     },
     "execution_count": 11,
     "metadata": {},
     "output_type": "execute_result"
    }
   ],
   "source": [
    "meta1_01['외부습도관측치'].unique()"
   ]
  },
  {
   "cell_type": "code",
   "execution_count": 12,
   "id": "b4c176a3",
   "metadata": {
    "ExecuteTime": {
     "end_time": "2022-05-13T07:19:38.718455Z",
     "start_time": "2022-05-13T07:19:30.175312Z"
    },
    "scrolled": true
   },
   "outputs": [
    {
     "data": {
      "image/png": "[encoded data removed]",
      "text/plain": [
       "<Figure size 432x288 with 1 Axes>"
      ]
     },
     "metadata": {
      "needs_background": "light"
     },
     "output_type": "display_data"
    }
   ],
   "source": [
    "import matplotlib.pyplot as plt\n",
    "import matplotlib\n",
    "matplotlib.rcParams['font.family'] = 'Malgun Gothic' # Windows\n",
    "matplotlib.rcParams['font.size'] = 10 # 글자 크기\n",
    "matplotlib.rcParams['axes.unicode_minus'] = False # 한글 폰트 사용시, 마이너스 글자가 깨지는 현상을 해결\n",
    "\n",
    "plt.plot(meta1_01['시간'],meta1_01['내부온도관측치'])\n",
    "plt.tick_params(\n",
    "    axis='x',          # changes apply to the x-axis\n",
    "    which='both',      # both major and minor ticks are affected\n",
    "    bottom=False,      # ticks along the bottom edge are off\n",
    "    top=False,         # ticks along the top edge are off\n",
    "    labelbottom=False) # labels along the bottom edge are off\n",
    "plt.xlabel('시간')\n",
    "plt.ylabel('내부온도관측치')\n",
    "plt.title('분당 내부온도관측치')\n",
    "plt.show()"
   ]
  },
  {
   "cell_type": "code",
   "execution_count": 13,
   "id": "9e127926",
   "metadata": {
    "ExecuteTime": {
     "end_time": "2022-05-13T07:19:45.022739Z",
     "start_time": "2022-05-13T07:19:38.818829Z"
    }
   },
   "outputs": [
    {
     "data": {
      "image/png": "[encoded data removed]",
      "text/plain": [
       "<Figure size 432x288 with 1 Axes>"
      ]
     },
     "metadata": {
      "needs_background": "light"
     },
     "output_type": "display_data"
    }
   ],
   "source": [
    "plt.plot(meta1_01['시간'],meta1_01['외부온도관측치'])\n",
    "plt.tick_params(\n",
    "    axis='x',          # changes apply to the x-axis\n",
    "    which='both',      # both major and minor ticks are affected\n",
    "    bottom=False,      # ticks along the bottom edge are off\n",
    "    top=False,         # ticks along the top edge are off\n",
    "    labelbottom=False) # labels along the bottom edge are off\n",
    "plt.xlabel('시간')\n",
    "plt.ylabel('외부온도관측치')\n",
    "plt.title('분당 외부온도관측치')\n",
    "plt.show()"
   ]
  },
  {
   "cell_type": "code",
   "execution_count": 14,
   "id": "8a669228",
   "metadata": {
    "ExecuteTime": {
     "end_time": "2022-05-13T07:19:51.285562Z",
     "start_time": "2022-05-13T07:19:45.103196Z"
    },
    "scrolled": false
   },
   "outputs": [
    {
     "data": {
      "image/png": "[encoded data removed]",
      "text/plain": [
       "<Figure size 432x288 with 1 Axes>"
      ]
     },
     "metadata": {
      "needs_background": "light"
     },
     "output_type": "display_data"
    }
   ],
   "source": [
    "plt.plot(meta1_01['시간'],meta1_01['내부습도관측치'])\n",
    "plt.tick_params(\n",
    "    axis='x',          # changes apply to the x-axis\n",
    "    which='both',      # both major and minor ticks are affected\n",
    "    bottom=False,      # ticks along the bottom edge are off\n",
    "    top=False,         # ticks along the top edge are off\n",
    "    labelbottom=False) # labels along the bottom edge are off\n",
    "plt.xlabel('시간')\n",
    "plt.ylabel('내부습도관측치')\n",
    "plt.title('분당 내부습도관측치')\n",
    "plt.show()"
   ]
  },
  {
   "cell_type": "code",
   "execution_count": 15,
   "id": "9923dfcf",
   "metadata": {
    "ExecuteTime": {
     "end_time": "2022-05-13T07:19:51.427376Z",
     "start_time": "2022-05-13T07:19:51.413846Z"
    }
   },
   "outputs": [],
   "source": [
    "a = meta1_01[['시간','외부습도관측치']].dropna()"
   ]
  },
  {
   "cell_type": "code",
   "execution_count": 16,
   "id": "7015ad09",
   "metadata": {
    "ExecuteTime": {
     "end_time": "2022-05-13T07:19:51.585468Z",
     "start_time": "2022-05-13T07:19:51.553384Z"
    },
    "scrolled": true
   },
   "outputs": [
    {
     "data": {
      "text/html": [
       "<div>\n",
       "<style scoped>\n",
       "    .dataframe tbody tr th:only-of-type {\n",
       "        vertical-align: middle;\n",
       "    }\n",
       "\n",
       "    .dataframe tbody tr th {\n",
       "        vertical-align: top;\n",
       "    }\n",
       "\n",
       "    .dataframe thead th {\n",
       "        text-align: right;\n",
       "    }\n",
       "</style>\n",
       "<table border=\"1\" class=\"dataframe\">\n",
       "  <thead>\n",
       "    <tr style=\"text-align: right;\">\n",
       "      <th></th>\n",
       "      <th>시간</th>\n",
       "      <th>외부습도관측치</th>\n",
       "    </tr>\n",
       "  </thead>\n",
       "  <tbody>\n",
       "    <tr>\n",
       "      <th>1</th>\n",
       "      <td>2021-05-07 02:47</td>\n",
       "      <td>0.0</td>\n",
       "    </tr>\n",
       "    <tr>\n",
       "      <th>2</th>\n",
       "      <td>2021-05-07 02:48</td>\n",
       "      <td>0.0</td>\n",
       "    </tr>\n",
       "    <tr>\n",
       "      <th>3</th>\n",
       "      <td>2021-05-07 02:49</td>\n",
       "      <td>0.0</td>\n",
       "    </tr>\n",
       "    <tr>\n",
       "      <th>4</th>\n",
       "      <td>2021-05-07 02:50</td>\n",
       "      <td>0.0</td>\n",
       "    </tr>\n",
       "    <tr>\n",
       "      <th>5</th>\n",
       "      <td>2021-05-07 02:51</td>\n",
       "      <td>0.0</td>\n",
       "    </tr>\n",
       "    <tr>\n",
       "      <th>...</th>\n",
       "      <td>...</td>\n",
       "      <td>...</td>\n",
       "    </tr>\n",
       "    <tr>\n",
       "      <th>1433</th>\n",
       "      <td>2021-05-08 02:39</td>\n",
       "      <td>0.0</td>\n",
       "    </tr>\n",
       "    <tr>\n",
       "      <th>1435</th>\n",
       "      <td>2021-05-08 02:41</td>\n",
       "      <td>0.0</td>\n",
       "    </tr>\n",
       "    <tr>\n",
       "      <th>1436</th>\n",
       "      <td>2021-05-08 02:42</td>\n",
       "      <td>0.0</td>\n",
       "    </tr>\n",
       "    <tr>\n",
       "      <th>1437</th>\n",
       "      <td>2021-05-08 02:43</td>\n",
       "      <td>0.0</td>\n",
       "    </tr>\n",
       "    <tr>\n",
       "      <th>1438</th>\n",
       "      <td>2021-05-08 02:44</td>\n",
       "      <td>0.0</td>\n",
       "    </tr>\n",
       "  </tbody>\n",
       "</table>\n",
       "<p>1149 rows × 2 columns</p>\n",
       "</div>"
      ],
      "text/plain": [
       "                    시간  외부습도관측치\n",
       "1     2021-05-07 02:47      0.0\n",
       "2     2021-05-07 02:48      0.0\n",
       "3     2021-05-07 02:49      0.0\n",
       "4     2021-05-07 02:50      0.0\n",
       "5     2021-05-07 02:51      0.0\n",
       "...                ...      ...\n",
       "1433  2021-05-08 02:39      0.0\n",
       "1435  2021-05-08 02:41      0.0\n",
       "1436  2021-05-08 02:42      0.0\n",
       "1437  2021-05-08 02:43      0.0\n",
       "1438  2021-05-08 02:44      0.0\n",
       "\n",
       "[1149 rows x 2 columns]"
      ]
     },
     "execution_count": 16,
     "metadata": {},
     "output_type": "execute_result"
    }
   ],
   "source": [
    "a"
   ]
  },
  {
   "cell_type": "code",
   "execution_count": 17,
   "id": "197ec8a6",
   "metadata": {
    "ExecuteTime": {
     "end_time": "2022-05-13T07:19:56.885289Z",
     "start_time": "2022-05-13T07:19:51.690568Z"
    }
   },
   "outputs": [
    {
     "data": {
      "image/png": "[encoded data removed]",
      "text/plain": [
       "<Figure size 432x288 with 1 Axes>"
      ]
     },
     "metadata": {
      "needs_background": "light"
     },
     "output_type": "display_data"
    }
   ],
   "source": [
    "plt.plot(a['시간'],a['외부습도관측치'])\n",
    "plt.tick_params(\n",
    "    axis='x',          # changes apply to the x-axis\n",
    "    which='both',      # both major and minor ticks are affected\n",
    "    bottom=False,      # ticks along the bottom edge are off\n",
    "    top=False,         # ticks along the top edge are off\n",
    "    labelbottom=False) # labels along the bottom edge are off\n",
    "plt.xlabel('시간')\n",
    "plt.ylabel('외부습도관측치')\n",
    "plt.title('분당 외부습도관측치')\n",
    "plt.show()"
   ]
  },
  {
   "cell_type": "code",
   "execution_count": 18,
   "id": "f14f41f3",
   "metadata": {
    "ExecuteTime": {
     "end_time": "2022-05-13T07:20:20.184870Z",
     "start_time": "2022-05-13T07:19:57.012319Z"
    },
    "scrolled": false
   },
   "outputs": [
    {
     "data": {
      "text/plain": [
       "Text(0.5, 1.0, '분당 외부습도관측치')"
      ]
     },
     "execution_count": 18,
     "metadata": {},
     "output_type": "execute_result"
    },
    {
     "data": {
      "image/png": "[encoded data removed]",
      "text/plain": [
       "<Figure size 1080x720 with 4 Axes>"
      ]
     },
     "metadata": {
      "needs_background": "light"
     },
     "output_type": "display_data"
    }
   ],
   "source": [
    "fig, axs = plt.subplots(2,2,figsize=(15,10)) # 2x2 에 해당하는 plot 들을 생성\n",
    "fig.suptitle('5/8~5/9, 내외부 온도 및 습도')\n",
    "\n",
    "\n",
    "# 첫 번째 그래프\n",
    "axs[0,0].plot(meta1_01['시간'],meta1_01['내부온도관측치'], alpha=0.5)\n",
    "axs[0,0].tick_params(\n",
    "    axis='x',          # changes apply to the x-axis\n",
    "    which='both',      # both major and minor ticks are affected\n",
    "    bottom=False,      # ticks along the bottom edge are off\n",
    "    top=False,         # ticks along the top edge are off\n",
    "    labelbottom=False) # labels along the bottom edge are off\n",
    "axs[0,0].set(xlabel = '시간',ylabel = '내부온도관측치')\n",
    "axs[0,0].set_title('분당 내부온도관측치')\n",
    "\n",
    "\n",
    "# 두 번째 그래프\n",
    "axs[0,1].plot(meta1_01['시간'],meta1_01['외부온도관측치'], alpha=0.5)\n",
    "axs[0,1].tick_params(\n",
    "    axis='x',          # changes apply to the x-axis\n",
    "    which='both',      # both major and minor ticks are affected\n",
    "    bottom=False,      # ticks along the bottom edge are off\n",
    "    top=False,         # ticks along the top edge are off\n",
    "    labelbottom=False) # labels along the bottom edge are off\n",
    "axs[0,1].set(xlabel = '시간',ylabel = '외부온도관측치')\n",
    "axs[0,1].set_title('분당 외부온도관측치')\n",
    "\n",
    "\n",
    "#  세 번째 그래프\n",
    "axs[1,0].plot(meta1_01['시간'],meta1_01['내부습도관측치'], alpha=0.5)\n",
    "axs[1,0].tick_params(\n",
    "    axis='x',          # changes apply to the x-axis\n",
    "    which='both',      # both major and minor ticks are affected\n",
    "    bottom=False,      # ticks along the bottom edge are off\n",
    "    top=False,         # ticks along the top edge are off\n",
    "    labelbottom=False) # labels along the bottom edge are off\n",
    "axs[1,0].set(xlabel = '시간',ylabel = '내부습도관측치')\n",
    "axs[1,0].set_title('분당 내부습도관측치')\n",
    "\n",
    "\n",
    "# 네 번째 그래프\n",
    "axs[1,1].plot(a['시간'],a['외부습도관측치'], alpha=0.5)\n",
    "axs[1,1].tick_params(\n",
    "    axis='x',          # changes apply to the x-axis\n",
    "    which='both',      # both major and minor ticks are affected\n",
    "    bottom=False,      # ticks along the bottom edge are off\n",
    "    top=False,         # ticks along the top edge are off\n",
    "    labelbottom=False) # labels along the bottom edge are off\n",
    "axs[1,1].set(xlabel = '시간',ylabel = '외부습도관측치')\n",
    "axs[1,1].set_title('분당 외부습도관측치')\n"
   ]
  },
  {
   "cell_type": "markdown",
   "id": "5f3b9ffb",
   "metadata": {},
   "source": [
    "- csv 파일과\n",
    "- img 파일을 각각 따로 모델링 하여 훈련시킨 뒤\n",
    "- 두 학습 모델"
   ]
  },
  {
   "cell_type": "code",
   "execution_count": 22,
   "id": "c13ab92d",
   "metadata": {
    "ExecuteTime": {
     "end_time": "2022-05-13T07:25:53.345435Z",
     "start_time": "2022-05-13T07:25:51.164409Z"
    }
   },
   "outputs": [
    {
     "data": {
      "image/png": "[encoded data removed]",
      "text/plain": [
       "<Figure size 432x288 with 1 Axes>"
      ]
     },
     "metadata": {
      "needs_background": "light"
     },
     "output_type": "display_data"
    }
   ],
   "source": [
    "import matplotlib.pyplot as plt\n",
    "img1 = cv2.imread('./open/train/CASE01/image/CASE01_09.png')\n",
    "img1_real = cv2.cvtColor(img1, cv2.COLOR_BGR2RGB)\n",
    "plt.imshow(img1_real)\n",
    "plt.show()"
   ]
  },
  {
   "cell_type": "code",
   "execution_count": 24,
   "id": "68d00b4a",
   "metadata": {
    "ExecuteTime": {
     "end_time": "2022-05-13T07:26:55.142934Z",
     "start_time": "2022-05-13T07:26:55.131406Z"
    }
   },
   "outputs": [
    {
     "data": {
      "text/plain": [
       "(2464, 3280, 3)"
      ]
     },
     "execution_count": 24,
     "metadata": {},
     "output_type": "execute_result"
    }
   ],
   "source": [
    "img1_real.shape"
   ]
  },
  {
   "cell_type": "code",
   "execution_count": 32,
   "id": "d45b851e",
   "metadata": {
    "ExecuteTime": {
     "end_time": "2022-05-13T07:30:02.260060Z",
     "start_time": "2022-05-13T07:30:02.247931Z"
    }
   },
   "outputs": [
    {
     "data": {
      "text/plain": [
       "(2464,)"
      ]
     },
     "execution_count": 32,
     "metadata": {},
     "output_type": "execute_result"
    }
   ],
   "source": [
    "img1_real[:,0,0].shape"
   ]
  },
  {
   "cell_type": "code",
   "execution_count": 30,
   "id": "22a5285a",
   "metadata": {
    "ExecuteTime": {
     "end_time": "2022-05-13T07:29:02.749188Z",
     "start_time": "2022-05-13T07:29:02.728456Z"
    },
    "scrolled": true
   },
   "outputs": [
    {
     "data": {
      "text/plain": [
       "array([[[159, 180, 211],\n",
       "        [158, 179, 210],\n",
       "        [162, 181, 213],\n",
       "        ...,\n",
       "        [188, 192, 227],\n",
       "        [184, 187, 222],\n",
       "        [185, 188, 223]],\n",
       "\n",
       "       [[161, 180, 212],\n",
       "        [160, 179, 211],\n",
       "        [162, 181, 213],\n",
       "        ...,\n",
       "        [186, 190, 225],\n",
       "        [184, 187, 222],\n",
       "        [185, 188, 223]],\n",
       "\n",
       "       [[163, 179, 213],\n",
       "        [163, 179, 213],\n",
       "        [161, 177, 211],\n",
       "        ...,\n",
       "        [186, 190, 225],\n",
       "        [184, 188, 223],\n",
       "        [183, 187, 222]],\n",
       "\n",
       "       ...,\n",
       "\n",
       "       [[136, 139, 184],\n",
       "        [133, 136, 181],\n",
       "        [127, 128, 174],\n",
       "        ...,\n",
       "        [195, 198, 231],\n",
       "        [199, 199, 233],\n",
       "        [200, 200, 234]],\n",
       "\n",
       "       [[129, 133, 180],\n",
       "        [130, 134, 181],\n",
       "        [129, 133, 180],\n",
       "        ...,\n",
       "        [197, 197, 233],\n",
       "        [197, 195, 232],\n",
       "        [195, 193, 230]],\n",
       "\n",
       "       [[119, 126, 172],\n",
       "        [126, 133, 179],\n",
       "        [129, 136, 182],\n",
       "        ...,\n",
       "        [196, 196, 232],\n",
       "        [195, 193, 230],\n",
       "        [195, 193, 230]]], dtype=uint8)"
      ]
     },
     "execution_count": 30,
     "metadata": {},
     "output_type": "execute_result"
    }
   ],
   "source": [
    "import numpy as np\n",
    "import pandas as pd\n",
    "img1_real"
   ]
  },
  {
   "cell_type": "code",
   "execution_count": 33,
   "id": "e891500f",
   "metadata": {
    "ExecuteTime": {
     "end_time": "2022-05-13T07:30:18.807909Z",
     "start_time": "2022-05-13T07:30:18.792635Z"
    }
   },
   "outputs": [],
   "source": [
    "df = pd.DataFrame(img1_real[:,0,0])"
   ]
  },
  {
   "cell_type": "code",
   "execution_count": 34,
   "id": "7e66cbe5",
   "metadata": {
    "ExecuteTime": {
     "end_time": "2022-05-13T07:30:21.412011Z",
     "start_time": "2022-05-13T07:30:21.400111Z"
    }
   },
   "outputs": [
    {
     "data": {
      "text/html": [
       "<div>\n",
       "<style scoped>\n",
       "    .dataframe tbody tr th:only-of-type {\n",
       "        vertical-align: middle;\n",
       "    }\n",
       "\n",
       "    .dataframe tbody tr th {\n",
       "        vertical-align: top;\n",
       "    }\n",
       "\n",
       "    .dataframe thead th {\n",
       "        text-align: right;\n",
       "    }\n",
       "</style>\n",
       "<table border=\"1\" class=\"dataframe\">\n",
       "  <thead>\n",
       "    <tr style=\"text-align: right;\">\n",
       "      <th></th>\n",
       "      <th>0</th>\n",
       "    </tr>\n",
       "  </thead>\n",
       "  <tbody>\n",
       "    <tr>\n",
       "      <th>0</th>\n",
       "      <td>159</td>\n",
       "    </tr>\n",
       "    <tr>\n",
       "      <th>1</th>\n",
       "      <td>161</td>\n",
       "    </tr>\n",
       "    <tr>\n",
       "      <th>2</th>\n",
       "      <td>163</td>\n",
       "    </tr>\n",
       "    <tr>\n",
       "      <th>3</th>\n",
       "      <td>162</td>\n",
       "    </tr>\n",
       "    <tr>\n",
       "      <th>4</th>\n",
       "      <td>162</td>\n",
       "    </tr>\n",
       "    <tr>\n",
       "      <th>...</th>\n",
       "      <td>...</td>\n",
       "    </tr>\n",
       "    <tr>\n",
       "      <th>2459</th>\n",
       "      <td>150</td>\n",
       "    </tr>\n",
       "    <tr>\n",
       "      <th>2460</th>\n",
       "      <td>142</td>\n",
       "    </tr>\n",
       "    <tr>\n",
       "      <th>2461</th>\n",
       "      <td>136</td>\n",
       "    </tr>\n",
       "    <tr>\n",
       "      <th>2462</th>\n",
       "      <td>129</td>\n",
       "    </tr>\n",
       "    <tr>\n",
       "      <th>2463</th>\n",
       "      <td>119</td>\n",
       "    </tr>\n",
       "  </tbody>\n",
       "</table>\n",
       "<p>2464 rows × 1 columns</p>\n",
       "</div>"
      ],
      "text/plain": [
       "        0\n",
       "0     159\n",
       "1     161\n",
       "2     163\n",
       "3     162\n",
       "4     162\n",
       "...   ...\n",
       "2459  150\n",
       "2460  142\n",
       "2461  136\n",
       "2462  129\n",
       "2463  119\n",
       "\n",
       "[2464 rows x 1 columns]"
      ]
     },
     "execution_count": 34,
     "metadata": {},
     "output_type": "execute_result"
    }
   ],
   "source": [
    "df"
   ]
  },
  {
   "cell_type": "code",
   "execution_count": 35,
   "id": "04dc720c",
   "metadata": {
    "ExecuteTime": {
     "end_time": "2022-05-13T07:32:38.169164Z",
     "start_time": "2022-05-13T07:32:38.146494Z"
    },
    "scrolled": false
   },
   "outputs": [
    {
     "data": {
      "text/html": [
       "<div>\n",
       "<style scoped>\n",
       "    .dataframe tbody tr th:only-of-type {\n",
       "        vertical-align: middle;\n",
       "    }\n",
       "\n",
       "    .dataframe tbody tr th {\n",
       "        vertical-align: top;\n",
       "    }\n",
       "\n",
       "    .dataframe thead th {\n",
       "        text-align: right;\n",
       "    }\n",
       "</style>\n",
       "<table border=\"1\" class=\"dataframe\">\n",
       "  <thead>\n",
       "    <tr style=\"text-align: right;\">\n",
       "      <th></th>\n",
       "      <th>img_name</th>\n",
       "      <th>leaf_weight</th>\n",
       "    </tr>\n",
       "  </thead>\n",
       "  <tbody>\n",
       "    <tr>\n",
       "      <th>0</th>\n",
       "      <td>CASE01_01.png</td>\n",
       "      <td>49.193</td>\n",
       "    </tr>\n",
       "    <tr>\n",
       "      <th>1</th>\n",
       "      <td>CASE01_02.png</td>\n",
       "      <td>59.764</td>\n",
       "    </tr>\n",
       "    <tr>\n",
       "      <th>2</th>\n",
       "      <td>CASE01_03.png</td>\n",
       "      <td>72.209</td>\n",
       "    </tr>\n",
       "    <tr>\n",
       "      <th>3</th>\n",
       "      <td>CASE01_04.png</td>\n",
       "      <td>85.737</td>\n",
       "    </tr>\n",
       "    <tr>\n",
       "      <th>4</th>\n",
       "      <td>CASE01_05.png</td>\n",
       "      <td>102.537</td>\n",
       "    </tr>\n",
       "    <tr>\n",
       "      <th>5</th>\n",
       "      <td>CASE01_06.png</td>\n",
       "      <td>123.359</td>\n",
       "    </tr>\n",
       "    <tr>\n",
       "      <th>6</th>\n",
       "      <td>CASE01_07.png</td>\n",
       "      <td>156.149</td>\n",
       "    </tr>\n",
       "    <tr>\n",
       "      <th>7</th>\n",
       "      <td>CASE01_08.png</td>\n",
       "      <td>174.931</td>\n",
       "    </tr>\n",
       "    <tr>\n",
       "      <th>8</th>\n",
       "      <td>CASE01_09.png</td>\n",
       "      <td>187.523</td>\n",
       "    </tr>\n",
       "  </tbody>\n",
       "</table>\n",
       "</div>"
      ],
      "text/plain": [
       "        img_name  leaf_weight\n",
       "0  CASE01_01.png       49.193\n",
       "1  CASE01_02.png       59.764\n",
       "2  CASE01_03.png       72.209\n",
       "3  CASE01_04.png       85.737\n",
       "4  CASE01_05.png      102.537\n",
       "5  CASE01_06.png      123.359\n",
       "6  CASE01_07.png      156.149\n",
       "7  CASE01_08.png      174.931\n",
       "8  CASE01_09.png      187.523"
      ]
     },
     "execution_count": 35,
     "metadata": {},
     "output_type": "execute_result"
    }
   ],
   "source": [
    "data1 = pd.read_csv('./open/train/CASE01/label.csv')\n",
    "data1"
   ]
  },
  {
   "cell_type": "code",
   "execution_count": 39,
   "id": "4be90f73",
   "metadata": {
    "ExecuteTime": {
     "end_time": "2022-05-13T07:40:34.904662Z",
     "start_time": "2022-05-13T07:40:34.891231Z"
    }
   },
   "outputs": [
    {
     "data": {
      "text/plain": [
       "(8081920, 1, 1)"
      ]
     },
     "execution_count": 39,
     "metadata": {},
     "output_type": "execute_result"
    }
   ],
   "source": [
    "img1_real[:,:,1].reshape(2464*3280,1,1).shape"
   ]
  },
  {
   "cell_type": "code",
   "execution_count": 43,
   "id": "6736a9b7",
   "metadata": {
    "ExecuteTime": {
     "end_time": "2022-05-13T07:41:48.675398Z",
     "start_time": "2022-05-13T07:41:48.660023Z"
    }
   },
   "outputs": [],
   "source": [
    "red_data = img1_real[:,:,0].reshape(2464*3280,1,1)"
   ]
  },
  {
   "cell_type": "code",
   "execution_count": 44,
   "id": "318875c8",
   "metadata": {
    "ExecuteTime": {
     "end_time": "2022-05-13T07:41:55.031381Z",
     "start_time": "2022-05-13T07:41:55.024677Z"
    }
   },
   "outputs": [],
   "source": [
    "green_data = img1_real[:,:,1].reshape(2464*3280,1,1)"
   ]
  },
  {
   "cell_type": "code",
   "execution_count": 45,
   "id": "1f6dfbf9",
   "metadata": {
    "ExecuteTime": {
     "end_time": "2022-05-13T07:42:14.240202Z",
     "start_time": "2022-05-13T07:42:14.233857Z"
    }
   },
   "outputs": [],
   "source": [
    "blue_data = img1_real[:,:,2].reshape(2464*3280,1,1)"
   ]
  },
  {
   "cell_type": "code",
   "execution_count": 74,
   "id": "ebfd0bde",
   "metadata": {
    "ExecuteTime": {
     "end_time": "2022-05-13T07:52:25.975676Z",
     "start_time": "2022-05-13T07:52:25.930575Z"
    }
   },
   "outputs": [],
   "source": [
    "data_real = np.concatenate((red_data.squeeze(1),green_data.squeeze(1),blue_data.squeeze(1)),axis=1)"
   ]
  },
  {
   "cell_type": "code",
   "execution_count": 68,
   "id": "27ee1e5e",
   "metadata": {
    "ExecuteTime": {
     "end_time": "2022-05-13T07:51:47.562653Z",
     "start_time": "2022-05-13T07:51:47.548355Z"
    }
   },
   "outputs": [
    {
     "data": {
      "text/plain": [
       "(8081920, 1)"
      ]
     },
     "execution_count": 68,
     "metadata": {},
     "output_type": "execute_result"
    }
   ],
   "source": [
    "red_data.squeeze(1).shape"
   ]
  },
  {
   "cell_type": "code",
   "execution_count": 75,
   "id": "59d83e51",
   "metadata": {
    "ExecuteTime": {
     "end_time": "2022-05-13T07:52:29.737967Z",
     "start_time": "2022-05-13T07:52:29.718124Z"
    }
   },
   "outputs": [
    {
     "data": {
      "text/plain": [
       "(8081920, 3)"
      ]
     },
     "execution_count": 75,
     "metadata": {},
     "output_type": "execute_result"
    }
   ],
   "source": [
    "data_real.shape"
   ]
  },
  {
   "cell_type": "code",
   "execution_count": 76,
   "id": "f8b32fa3",
   "metadata": {
    "ExecuteTime": {
     "end_time": "2022-05-13T07:52:30.063787Z",
     "start_time": "2022-05-13T07:52:30.050428Z"
    }
   },
   "outputs": [
    {
     "data": {
      "text/plain": [
       "array([[159, 180, 211],\n",
       "       [158, 179, 210],\n",
       "       [162, 181, 213],\n",
       "       ...,\n",
       "       [196, 196, 232],\n",
       "       [195, 193, 230],\n",
       "       [195, 193, 230]], dtype=uint8)"
      ]
     },
     "execution_count": 76,
     "metadata": {},
     "output_type": "execute_result"
    }
   ],
   "source": [
    "data_real"
   ]
  },
  {
   "cell_type": "code",
   "execution_count": 78,
   "id": "b9b85e60",
   "metadata": {
    "ExecuteTime": {
     "end_time": "2022-05-13T07:56:12.567884Z",
     "start_time": "2022-05-13T07:56:12.561466Z"
    }
   },
   "outputs": [],
   "source": [
    "data2 = pd.DataFrame(data_real)"
   ]
  },
  {
   "cell_type": "code",
   "execution_count": 81,
   "id": "7ac91e7e",
   "metadata": {
    "ExecuteTime": {
     "end_time": "2022-05-13T07:56:25.449807Z",
     "start_time": "2022-05-13T07:56:25.433760Z"
    }
   },
   "outputs": [
    {
     "data": {
      "text/html": [
       "<div>\n",
       "<style scoped>\n",
       "    .dataframe tbody tr th:only-of-type {\n",
       "        vertical-align: middle;\n",
       "    }\n",
       "\n",
       "    .dataframe tbody tr th {\n",
       "        vertical-align: top;\n",
       "    }\n",
       "\n",
       "    .dataframe thead th {\n",
       "        text-align: right;\n",
       "    }\n",
       "</style>\n",
       "<table border=\"1\" class=\"dataframe\">\n",
       "  <thead>\n",
       "    <tr style=\"text-align: right;\">\n",
       "      <th></th>\n",
       "      <th>0</th>\n",
       "      <th>1</th>\n",
       "      <th>2</th>\n",
       "    </tr>\n",
       "  </thead>\n",
       "  <tbody>\n",
       "    <tr>\n",
       "      <th>0</th>\n",
       "      <td>159</td>\n",
       "      <td>180</td>\n",
       "      <td>211</td>\n",
       "    </tr>\n",
       "    <tr>\n",
       "      <th>1</th>\n",
       "      <td>158</td>\n",
       "      <td>179</td>\n",
       "      <td>210</td>\n",
       "    </tr>\n",
       "    <tr>\n",
       "      <th>2</th>\n",
       "      <td>162</td>\n",
       "      <td>181</td>\n",
       "      <td>213</td>\n",
       "    </tr>\n",
       "    <tr>\n",
       "      <th>3</th>\n",
       "      <td>160</td>\n",
       "      <td>179</td>\n",
       "      <td>211</td>\n",
       "    </tr>\n",
       "    <tr>\n",
       "      <th>4</th>\n",
       "      <td>161</td>\n",
       "      <td>177</td>\n",
       "      <td>211</td>\n",
       "    </tr>\n",
       "    <tr>\n",
       "      <th>...</th>\n",
       "      <td>...</td>\n",
       "      <td>...</td>\n",
       "      <td>...</td>\n",
       "    </tr>\n",
       "    <tr>\n",
       "      <th>8081915</th>\n",
       "      <td>195</td>\n",
       "      <td>198</td>\n",
       "      <td>231</td>\n",
       "    </tr>\n",
       "    <tr>\n",
       "      <th>8081916</th>\n",
       "      <td>195</td>\n",
       "      <td>195</td>\n",
       "      <td>231</td>\n",
       "    </tr>\n",
       "    <tr>\n",
       "      <th>8081917</th>\n",
       "      <td>196</td>\n",
       "      <td>196</td>\n",
       "      <td>232</td>\n",
       "    </tr>\n",
       "    <tr>\n",
       "      <th>8081918</th>\n",
       "      <td>195</td>\n",
       "      <td>193</td>\n",
       "      <td>230</td>\n",
       "    </tr>\n",
       "    <tr>\n",
       "      <th>8081919</th>\n",
       "      <td>195</td>\n",
       "      <td>193</td>\n",
       "      <td>230</td>\n",
       "    </tr>\n",
       "  </tbody>\n",
       "</table>\n",
       "<p>8081920 rows × 3 columns</p>\n",
       "</div>"
      ],
      "text/plain": [
       "           0    1    2\n",
       "0        159  180  211\n",
       "1        158  179  210\n",
       "2        162  181  213\n",
       "3        160  179  211\n",
       "4        161  177  211\n",
       "...      ...  ...  ...\n",
       "8081915  195  198  231\n",
       "8081916  195  195  231\n",
       "8081917  196  196  232\n",
       "8081918  195  193  230\n",
       "8081919  195  193  230\n",
       "\n",
       "[8081920 rows x 3 columns]"
      ]
     },
     "execution_count": 81,
     "metadata": {},
     "output_type": "execute_result"
    }
   ],
   "source": [
    "data2"
   ]
  },
  {
   "cell_type": "code",
   "execution_count": 96,
   "id": "4710220c",
   "metadata": {
    "ExecuteTime": {
     "end_time": "2022-05-13T08:08:10.796063Z",
     "start_time": "2022-05-13T08:08:08.403109Z"
    },
    "scrolled": true
   },
   "outputs": [
    {
     "data": {
      "image/png": "[encoded data removed]",
      "text/plain": [
       "<Figure size 2160x720 with 3 Axes>"
      ]
     },
     "metadata": {
      "needs_background": "light"
     },
     "output_type": "display_data"
    }
   ],
   "source": [
    "fig , axe = plt.subplots(1,3,figsize=(30,10))\n",
    "axe[0].hist(data2[0],bins=100,color='r')\n",
    "axe[1].hist(data2[1],bins=100,color='g')\n",
    "axe[2].hist(data2[2],bins=100,color='b')\n",
    "plt.show()"
   ]
  },
  {
   "cell_type": "code",
   "execution_count": 100,
   "id": "dfdfa8e5",
   "metadata": {
    "ExecuteTime": {
     "end_time": "2022-05-13T08:10:21.701524Z",
     "start_time": "2022-05-13T08:10:19.769200Z"
    }
   },
   "outputs": [
    {
     "data": {
      "image/png": "[encoded data removed]",
      "text/plain": [
       "<Figure size 432x288 with 1 Axes>"
      ]
     },
     "metadata": {
      "needs_background": "light"
     },
     "output_type": "display_data"
    }
   ],
   "source": [
    "plt.hist(data2[0],bins=100,color='r',alpha=0.5)\n",
    "plt.hist(data2[2],bins=100,color='b',alpha=0.5)\n",
    "plt.hist(data2[1],bins=100,color='g',alpha=0.8)\n",
    "plt.show()"
   ]
  },
  {
   "cell_type": "code",
   "execution_count": 101,
   "id": "fe1da8cb",
   "metadata": {
    "ExecuteTime": {
     "end_time": "2022-05-13T08:12:26.013275Z",
     "start_time": "2022-05-13T08:12:01.590560Z"
    }
   },
   "outputs": [
    {
     "data": {
      "text/plain": [
       "<matplotlib.collections.PathCollection at 0x19e9ffbb0d0>"
      ]
     },
     "execution_count": 101,
     "metadata": {},
     "output_type": "execute_result"
    },
    {
     "data": {
      "image/png": "[encoded data removed]",
      "text/plain": [
       "<Figure size 432x288 with 1 Axes>"
      ]
     },
     "metadata": {
      "needs_background": "light"
     },
     "output_type": "display_data"
    }
   ],
   "source": [
    "plt.scatter(data2[0],data2[1])\n",
    "plt.show()"
   ]
  },
  {
   "cell_type": "code",
   "execution_count": 102,
   "id": "86ca747f",
   "metadata": {
    "ExecuteTime": {
     "end_time": "2022-05-13T08:16:06.854281Z",
     "start_time": "2022-05-13T08:15:42.470860Z"
    }
   },
   "outputs": [
    {
     "data": {
      "image/png": "[encoded data removed]",
      "text/plain": [
       "<Figure size 432x288 with 1 Axes>"
      ]
     },
     "metadata": {
      "needs_background": "light"
     },
     "output_type": "display_data"
    }
   ],
   "source": [
    "plt.scatter(data2[1],data2[2])\n",
    "plt.show()"
   ]
  },
  {
   "cell_type": "code",
   "execution_count": 103,
   "id": "7e25fa0f",
   "metadata": {
    "ExecuteTime": {
     "end_time": "2022-05-13T08:16:31.886148Z",
     "start_time": "2022-05-13T08:16:07.008741Z"
    }
   },
   "outputs": [
    {
     "data": {
      "image/png": "[encoded data removed]",
      "text/plain": [
       "<Figure size 432x288 with 1 Axes>"
      ]
     },
     "metadata": {
      "needs_background": "light"
     },
     "output_type": "display_data"
    }
   ],
   "source": [
    "plt.scatter(data2[0],data2[2])\n",
    "plt.show()"
   ]
  },
  {
   "cell_type": "markdown",
   "id": "3cc32f40",
   "metadata": {},
   "source": [
    "# pixel의 평균값과 비교"
   ]
  },
  {
   "cell_type": "code",
   "execution_count": 112,
   "id": "1c9ca018",
   "metadata": {
    "ExecuteTime": {
     "end_time": "2022-05-13T08:22:44.305084Z",
     "start_time": "2022-05-13T08:22:43.491498Z"
    }
   },
   "outputs": [],
   "source": [
    "data_mean = data2.describe().iloc[1,:]"
   ]
  },
  {
   "cell_type": "code",
   "execution_count": 113,
   "id": "90576072",
   "metadata": {
    "ExecuteTime": {
     "end_time": "2022-05-13T08:22:47.484539Z",
     "start_time": "2022-05-13T08:22:47.470718Z"
    }
   },
   "outputs": [
    {
     "data": {
      "text/plain": [
       "0    132.116518\n",
       "1    149.013716\n",
       "2    159.348748\n",
       "Name: mean, dtype: float64"
      ]
     },
     "execution_count": 113,
     "metadata": {},
     "output_type": "execute_result"
    }
   ],
   "source": [
    "data_mean"
   ]
  },
  {
   "cell_type": "code",
   "execution_count": null,
   "id": "d451bad9",
   "metadata": {},
   "outputs": [],
   "source": [
    "data_1 = "
   ]
  }
 ],
 "metadata": {
  "kernelspec": {
   "display_name": "Python 3 (ipykernel)",
   "language": "python",
   "name": "python3"
  },
  "language_info": {
   "codemirror_mode": {
    "name": "ipython",
    "version": 3
   },
   "file_extension": ".py",
   "mimetype": "text/x-python",
   "name": "python",
   "nbconvert_exporter": "python",
   "pygments_lexer": "ipython3",
   "version": "3.9.7"
  },
  "toc": {
   "base_numbering": 1,
   "nav_menu": {},
   "number_sections": true,
   "sideBar": true,
   "skip_h1_title": false,
   "title_cell": "Table of Contents",
   "title_sidebar": "Contents",
   "toc_cell": false,
   "toc_position": {},
   "toc_section_display": true,
   "toc_window_display": false
  },
  "varInspector": {
   "cols": {
    "lenName": 16,
    "lenType": 16,
    "lenVar": 40
   },
   "kernels_config": {
    "python": {
     "delete_cmd_postfix": "",
     "delete_cmd_prefix": "del ",
     "library": "var_list.py",
     "varRefreshCmd": "print(var_dic_list())"
    },
    "r": {
     "delete_cmd_postfix": ") ",
     "delete_cmd_prefix": "rm(",
     "library": "var_list.r",
     "varRefreshCmd": "cat(var_dic_list()) "
    }
   },
   "types_to_exclude": [
    "module",
    "function",
    "builtin_function_or_method",
    "instance",
    "_Feature"
   ],
   "window_display": false
  }
 },
 "nbformat": 4,
 "nbformat_minor": 5
}
