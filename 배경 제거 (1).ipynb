{
 "cells": [
  {
   "cell_type": "code",
   "execution_count": 1,
   "id": "eebd87db-802a-4212-9b45-0f49d2a10d94",
   "metadata": {},
   "outputs": [],
   "source": [
    "import cv2\n",
    "import numpy as np\n",
    "import matplotlib.pyplot as plt\n",
    "import os\n",
    "import pandas as pd"
   ]
  },
  {
   "cell_type": "code",
   "execution_count": 240,
   "id": "7356b89a-0562-41ac-ae9f-b6605b28c8f3",
   "metadata": {},
   "outputs": [],
   "source": [
    "ori_img = cv2.imread(\"C:\\\\Users\\\\beomh\\\\Desktop\\\\test\\\\014.png\")\n",
    "img = cv2.resize(ori_img, (700, 700))"
   ]
  },
  {
   "cell_type": "code",
   "execution_count": 213,
   "id": "3831f72c-0976-4c8c-af98-f04fbf0fc16c",
   "metadata": {},
   "outputs": [],
   "source": [
    "if img is not None:\n",
    "    cv2.imshow(\"IMG\", img)\n",
    "    cv2.waitKey()\n",
    "    cv2.destroyAllWindows()\n",
    "else:\n",
    "    print(\"there is no image file\")"
   ]
  },
  {
   "cell_type": "code",
   "execution_count": 76,
   "id": "0f5a45ee-6cd4-452e-bfd9-78df8c7254c3",
   "metadata": {},
   "outputs": [],
   "source": [
    "gray = cv2.cvtColor(img,cv2.COLOR_BGR2GRAY)\n",
    "cv2.imshow('gray',gray)\n",
    "cv2.waitKey()\n",
    "cv2.destroyAllWindows()"
   ]
  },
  {
   "cell_type": "markdown",
   "id": "289350c4-bfdd-4735-b91c-48b2f7bb9e92",
   "metadata": {},
   "source": [
    "### 배경 제거\n",
    "\n",
    "HSV를 이용한 배경 제거 (실행하면 보여짐)"
   ]
  },
  {
   "cell_type": "code",
   "execution_count": 49,
   "id": "949f7b12-8b0b-4995-82d3-4d96b2fcf93d",
   "metadata": {},
   "outputs": [],
   "source": [
    "ori_img = cv2.imread(\"C:\\\\Users\\\\beomh\\\\Desktop\\\\test\\\\048.png\")\n",
    "img = cv2.resize(ori_img, (700, 700))\n",
    "\n",
    "\n",
    "lower_green = (0, 0, 0)\n",
    "upper_green = (90, 255, 255)\n",
    "\n",
    "img_hsv = cv2.cvtColor(img, cv2.COLOR_BGR2HSV)\n",
    "img_mask = cv2.inRange(img_hsv, lower_green, upper_green)\n",
    "img_result = cv2.bitwise_and(img, img, mask=img_mask)\n",
    "\n",
    "lower_pupple = (155, 0, 0)\n",
    "upper_pupple = (180, 255, 255)\n",
    "\n",
    "img_hsv2 = cv2.cvtColor(img, cv2.COLOR_BGR2HSV)\n",
    "img_mask2 = cv2.inRange(img_hsv2, lower_pupple, upper_pupple)\n",
    "img_result2 = cv2.bitwise_and(img, img, mask=img_mask2)\n",
    "\n",
    "\n",
    "img_final = img_result + img_result2\n",
    "\n",
    "img_final_mask = cv2.inRange(img_final, (240,240,240), (255,255,255))\n",
    "img_final_result = cv2.bitwise_not(img_final, img_final, mask=img_final_mask)\n",
    "\n",
    "cv2.imshow(\"img_final_result\",img_final_result)\n",
    "cv2.imshow(\"orignal\",img)\n",
    "cv2.waitKey()\n",
    "cv2.destroyAllWindows()\n"
   ]
  },
  {
   "cell_type": "markdown",
   "id": "3b9cea0f-84f0-4c46-8039-a69583e946e6",
   "metadata": {},
   "source": [
    "### 여기 부분은 저장하는 부분"
   ]
  },
  {
   "cell_type": "code",
   "execution_count": null,
   "id": "961c2214-6ffe-4d77-b82b-83a6504ddfd4",
   "metadata": {},
   "outputs": [],
   "source": [
    "file_list = os.listdir('C:\\\\Users\\\\beomh\\\\Desktop\\\\train')\n",
    "size = len(file_list)\n",
    "for i in range(size):\n",
    "    try:\n",
    "        path_name = 'C:\\\\Users\\\\beomh\\\\Desktop\\\\train'+\"\\\\\" + file_list[i]\n",
    "        save_name = 'C:\\\\Users\\\\beomh\\\\Desktop\\\\train_전처리'+\"\\\\\" + file_list[i]\n",
    "\n",
    "        ori_img = cv2.imread(path_name)\n",
    "        img = cv2.resize(ori_img, (700, 700))\n",
    "\n",
    "        lower_green = (0, 0, 0)\n",
    "        upper_green = (90, 255, 255)\n",
    "\n",
    "        img_hsv = cv2.cvtColor(img, cv2.COLOR_BGR2HSV)\n",
    "        img_mask = cv2.inRange(img_hsv, lower_green, upper_green)\n",
    "        img_result = cv2.bitwise_and(img, img, mask=img_mask)\n",
    "\n",
    "        lower_pupple = (155, 0, 0)\n",
    "        upper_pupple = (180, 255, 255)\n",
    "\n",
    "        img_hsv2 = cv2.cvtColor(img, cv2.COLOR_BGR2HSV)\n",
    "        img_mask2 = cv2.inRange(img_hsv2, lower_pupple, upper_pupple)\n",
    "        img_result2 = cv2.bitwise_and(img, img, mask=img_mask2)\n",
    "\n",
    "\n",
    "        img_final = img_result + img_result2\n",
    "\n",
    "        img_final_mask = cv2.inRange(img_final, (240,240,240), (255,255,255))\n",
    "        img_final_result = cv2.bitwise_not(img_final, img_final, mask=img_final_mask)\n",
    "\n",
    "        cv2.imwrite(save_name,img_final_result)\n",
    "    except:\n",
    "        print(\"%d 번째 파일 오류\"%i)\n",
    "\n",
    "        \n",
    "print(\"저장 완료!! 총 %d 개의 데이터 전처리 완료\"%(len(file_list)))"
   ]
  },
  {
   "cell_type": "markdown",
   "id": "2c556d10-56b8-482f-9771-c6e4bc5f8b84",
   "metadata": {},
   "source": [
    "### binary 값으로 변경"
   ]
  },
  {
   "cell_type": "code",
   "execution_count": 4,
   "id": "d9e88a45-a30d-4cdc-95b9-4cf86bedce06",
   "metadata": {},
   "outputs": [
    {
     "name": "stdout",
     "output_type": "stream",
     "text": [
      "저장 완료!! 총 72 개의 데이터 전처리 완료\n"
     ]
    }
   ],
   "source": [
    "file_list = os.listdir('C:\\\\Users\\\\beomh\\\\Desktop\\\\test')\n",
    "\n",
    "for i in range(len(file_list)):\n",
    "    try:\n",
    "        path_name = 'C:\\\\Users\\\\beomh\\\\Desktop\\\\test'+\"\\\\\" + file_list[i]\n",
    "        save_name = 'C:\\\\Users\\\\beomh\\\\Desktop\\\\test_binary'+\"\\\\\" + file_list[i]\n",
    "\n",
    "        ori_img = cv2.imread(path_name)\n",
    "        img = cv2.resize(ori_img, (700, 700))\n",
    "\n",
    "        lower_green = (0, 0, 0)\n",
    "        upper_green = (90, 255, 255)\n",
    "\n",
    "        img_hsv = cv2.cvtColor(img, cv2.COLOR_BGR2HSV)\n",
    "        img_mask = cv2.inRange(img_hsv, lower_green, upper_green)\n",
    "        img_result = cv2.bitwise_and(img, img, mask=img_mask)\n",
    "\n",
    "        lower_pupple = (155, 0, 0)\n",
    "        upper_pupple = (180, 255, 255)\n",
    "\n",
    "        img_hsv2 = cv2.cvtColor(img, cv2.COLOR_BGR2HSV)\n",
    "        img_mask2 = cv2.inRange(img_hsv2, lower_pupple, upper_pupple)\n",
    "        img_result2 = cv2.bitwise_and(img, img, mask=img_mask2)\n",
    "\n",
    "\n",
    "        img_final = img_result + img_result2\n",
    "\n",
    "        img_final_mask = cv2.inRange(img_final, (240,240,240), (255,255,255))\n",
    "        img_final_result = cv2.bitwise_not(img_final, img_final, mask=img_final_mask)\n",
    "        \n",
    "        \n",
    "        ret, img_binary_first = cv2.threshold(img_final_result,15,255, cv2.THRESH_BINARY)\n",
    "        img_binary_gray = cv2.cvtColor(img_binary_first, cv2.COLOR_BGR2GRAY)\n",
    "        \n",
    "        ret,img_binary_final = cv2.threshold(img_binary_gray,127,255,0)\n",
    "        cv2.imwrite(save_name,img_binary_final)\n",
    "    except:\n",
    "        print(\"%d 번째 파일 오류\"%i)\n",
    "\n",
    "        \n",
    "print(\"저장 완료!! 총 %d 개의 데이터 전처리 완료\"%(len(file_list)))"
   ]
  },
  {
   "cell_type": "markdown",
   "id": "e4d33e14-ab6c-491e-b5b3-63084242d916",
   "metadata": {},
   "source": [
    "### 윤곽선"
   ]
  },
  {
   "cell_type": "code",
   "execution_count": 105,
   "id": "cf3668e0-cd00-4bd0-9889-3e2520adf2cd",
   "metadata": {},
   "outputs": [
    {
     "name": "stdout",
     "output_type": "stream",
     "text": [
      "저장 완료!! 총 72 개의 데이터 전처리 완료\n"
     ]
    }
   ],
   "source": [
    "file_list = os.listdir('C:\\\\Users\\\\beomh\\\\Desktop\\\\test')\n",
    "\n",
    "for i in range(len(file_list)):\n",
    "    try:\n",
    "        path_name = 'C:\\\\Users\\\\beomh\\\\Desktop\\\\test'+\"\\\\\" + file_list[i]\n",
    "        save_name = 'C:\\\\Users\\\\beomh\\\\Desktop\\\\test_edge'+\"\\\\\" + file_list[i]\n",
    "\n",
    "        ori_img = cv2.imread(path_name)\n",
    "        img = cv2.resize(ori_img, (700, 700))\n",
    "\n",
    "        lower_green = (0, 0, 0)\n",
    "        upper_green = (90, 255, 255)\n",
    "\n",
    "        img_hsv = cv2.cvtColor(img, cv2.COLOR_BGR2HSV)\n",
    "        img_mask = cv2.inRange(img_hsv, lower_green, upper_green)\n",
    "        img_result = cv2.bitwise_and(img, img, mask=img_mask)\n",
    "\n",
    "        lower_pupple = (155, 0, 0)\n",
    "        upper_pupple = (180, 255, 255)\n",
    "\n",
    "        img_hsv2 = cv2.cvtColor(img, cv2.COLOR_BGR2HSV)\n",
    "        img_mask2 = cv2.inRange(img_hsv2, lower_pupple, upper_pupple)\n",
    "        img_result2 = cv2.bitwise_and(img, img, mask=img_mask2)\n",
    "\n",
    "\n",
    "        img_final = img_result + img_result2\n",
    "\n",
    "        img_final_mask = cv2.inRange(img_final, (240,240,240), (255,255,255))\n",
    "        img_final_result = cv2.bitwise_not(img_final, img_final, mask=img_final_mask)\n",
    "        \n",
    "        blur = cv2.GaussianBlur(img_final_result, ksize=(3,3), sigmaX=0)\n",
    "        ret, thresh1 = cv2.threshold(blur, 10, 255, cv2.THRESH_BINARY)\n",
    "        edged = cv2.Canny(blur, 10, 250)\n",
    "        cv2.imwrite(save_name,edged)\n",
    "    except:\n",
    "        print(\"%d 번째 파일 오류\"%i)\n",
    "\n",
    "        \n",
    "print(\"저장 완료!! 총 %d 개의 데이터 전처리 완료\"%(len(file_list)))"
   ]
  },
  {
   "cell_type": "markdown",
   "id": "ddae4acf-15cb-4591-a3c6-7a3dce1df4ce",
   "metadata": {},
   "source": [
    "### 윤곽선 면적"
   ]
  },
  {
   "cell_type": "code",
   "execution_count": 74,
   "id": "3517e90e-fd11-4e90-a092-c7e0e193a801",
   "metadata": {},
   "outputs": [
    {
     "name": "stdout",
     "output_type": "stream",
     "text": [
      "저장 완료!! 총 72 개의 데이터 전처리 완료\n"
     ]
    }
   ],
   "source": [
    "file_list = os.listdir('C:\\\\Users\\\\beomh\\\\Desktop\\\\test')\n",
    "list_area = []\n",
    "\n",
    "for i in range(len(file_list)):\n",
    "    try:\n",
    "        path_name = 'C:\\\\Users\\\\beomh\\\\Desktop\\\\test'+\"\\\\\" + file_list[i]\n",
    "        save_name = 'C:\\\\Users\\\\beomh\\\\Desktop\\\\test_area'+\"\\\\\" + file_list[i]\n",
    "\n",
    "        ori_img = cv2.imread(path_name)\n",
    "        img = cv2.resize(ori_img, (700, 700))\n",
    "\n",
    "        lower_green = (0, 0, 0)\n",
    "        upper_green = (90, 255, 255)\n",
    "\n",
    "        img_hsv = cv2.cvtColor(img, cv2.COLOR_BGR2HSV)\n",
    "        img_mask = cv2.inRange(img_hsv, lower_green, upper_green)\n",
    "        img_result = cv2.bitwise_and(img, img, mask=img_mask)\n",
    "\n",
    "        lower_pupple = (155, 0, 0)\n",
    "        upper_pupple = (180, 255, 255)\n",
    "\n",
    "        img_hsv2 = cv2.cvtColor(img, cv2.COLOR_BGR2HSV)\n",
    "        img_mask2 = cv2.inRange(img_hsv2, lower_pupple, upper_pupple)\n",
    "        img_result2 = cv2.bitwise_and(img, img, mask=img_mask2)\n",
    "\n",
    "\n",
    "        img_final = img_result + img_result2\n",
    "\n",
    "        img_final_mask = cv2.inRange(img_final, (240,240,240), (255,255,255))\n",
    "        img_final_result = cv2.bitwise_not(img_final, img_final, mask=img_final_mask)\n",
    "        \n",
    "        \n",
    "        ret, img_binary_first = cv2.threshold(img_final_result,15,255, cv2.THRESH_BINARY)\n",
    "        img_binary_gray = cv2.cvtColor(img_binary_first, cv2.COLOR_BGR2GRAY)\n",
    "        \n",
    "        ret,img_binary_final = cv2.threshold(img_binary_gray,127,255,0)\n",
    "        \n",
    "        contours, hierarchy =  cv2.findContours(img_binary_final, cv2.RETR_EXTERNAL, cv2.CHAIN_APPROX_NONE)\n",
    "        img_area = cv2.drawContours(img_binary_final,contours,-1,(180,255,255),2)\n",
    "        c0 = contours[0]\n",
    "        M = cv2.moments(c0)\n",
    "        list_area.append(cv2.contourArea(c0))\n",
    "        cv2.imwrite(save_name,img_area)\n",
    "    except:\n",
    "        print(\"%d 번째 파일 오류\"%i)\n",
    "\n",
    "print(\"저장 완료!! 총 %d 개의 데이터 전처리 완료\"%(len(file_list)))"
   ]
  },
  {
   "cell_type": "code",
   "execution_count": 83,
   "id": "6b0f7aa6-988c-421b-b15e-0a5d5074ff50",
   "metadata": {},
   "outputs": [
    {
     "name": "stdout",
     "output_type": "stream",
     "text": [
      "          0\n",
      "0   19278.0\n",
      "1       0.0\n",
      "2       0.0\n",
      "3    9343.0\n",
      "4   18767.5\n",
      "..      ...\n",
      "67  18660.5\n",
      "68     12.5\n",
      "69   2366.5\n",
      "70      0.0\n",
      "71  20202.5\n",
      "\n",
      "[72 rows x 1 columns]\n"
     ]
    }
   ],
   "source": [
    "list_area\n",
    "dataframe = pd.DataFrame(list_area)\n",
    "print(dataframe)\n",
    "dataframe.to_csv(\"C:\\\\Users\\\\beomh\\\\Desktop\\\\식물 면적.csv\",header=False,index=False)"
   ]
  }
 ],
 "metadata": {
  "kernelspec": {
   "display_name": "Python 3 (ipykernel)",
   "language": "python",
   "name": "python3"
  },
  "language_info": {
   "codemirror_mode": {
    "name": "ipython",
    "version": 3
   },
   "file_extension": ".py",
   "mimetype": "text/x-python",
   "name": "python",
   "nbconvert_exporter": "python",
   "pygments_lexer": "ipython3",
   "version": "3.9.7"
  },
  "toc": {
   "base_numbering": 1,
   "nav_menu": {},
   "number_sections": true,
   "sideBar": true,
   "skip_h1_title": false,
   "title_cell": "Table of Contents",
   "title_sidebar": "Contents",
   "toc_cell": false,
   "toc_position": {},
   "toc_section_display": true,
   "toc_window_display": false
  },
  "varInspector": {
   "cols": {
    "lenName": 16,
    "lenType": 16,
    "lenVar": 40
   },
   "kernels_config": {
    "python": {
     "delete_cmd_postfix": "",
     "delete_cmd_prefix": "del ",
     "library": "var_list.py",
     "varRefreshCmd": "print(var_dic_list())"
    },
    "r": {
     "delete_cmd_postfix": ") ",
     "delete_cmd_prefix": "rm(",
     "library": "var_list.r",
     "varRefreshCmd": "cat(var_dic_list()) "
    }
   },
   "types_to_exclude": [
    "module",
    "function",
    "builtin_function_or_method",
    "instance",
    "_Feature"
   ],
   "window_display": false
  }
 },
 "nbformat": 4,
 "nbformat_minor": 5
}
